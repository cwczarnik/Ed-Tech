{
 "cells": [
  {
   "cell_type": "code",
   "execution_count": 86,
   "metadata": {
    "collapsed": true
   },
   "outputs": [],
   "source": [
    "import sqlite3"
   ]
  },
  {
   "cell_type": "code",
   "execution_count": 87,
   "metadata": {
    "collapsed": false
   },
   "outputs": [],
   "source": [
    "conn = sqlite3.connect(r'raise')\n",
    "query = '''\n",
    "CREATE TABLE students(\n",
    "    id integer PRIMARY KEY,\n",
    "    name text,\n",
    "    high_school_id integer,\n",
    "    hs_grad_year integer,\n",
    "    state text);\n",
    "'''\n",
    "cursor = conn.cursor()\n",
    "output = cursor.execute(query).fetchall()"
   ]
  },
  {
   "cell_type": "code",
   "execution_count": 88,
   "metadata": {
    "collapsed": false
   },
   "outputs": [],
   "source": [
    "conn = sqlite3.connect(r'raise')\n",
    "query = '''\n",
    "CREATE TABLE colleges(\n",
    "    id integer PRIMARY KEY,\n",
    "    name text,\n",
    "    state text,\n",
    "    partner boolean);\n",
    "'''\n",
    "cursor = conn.cursor()\n",
    "output = cursor.execute(query).fetchall()"
   ]
  },
  {
   "cell_type": "code",
   "execution_count": 89,
   "metadata": {
    "collapsed": false
   },
   "outputs": [],
   "source": [
    "conn = sqlite3.connect(r'raise')\n",
    "query = '''\n",
    "CREATE TABLE followed_colleges(\n",
    "    students_id integer,\n",
    "    colleges_id integer,\n",
    "    foreign key(students_id) references students(id),\n",
    "    foreign key(colleges_id) references colleges(id));\n",
    "'''\n",
    "cursor = conn.cursor()\n",
    "output = cursor.execute(query).fetchall()"
   ]
  },
  {
   "cell_type": "code",
   "execution_count": 90,
   "metadata": {
    "collapsed": false
   },
   "outputs": [
    {
     "name": "stdout",
     "output_type": "stream",
     "text": [
      "[(1, u'name1', u'high_school1', u'hs_grad_year1', u'state1'), (2, u'name2', u'high_school2', u'hs_grad_year2', u'state2'), (3, u'name3', u'high_school3', u'hs_grad_year3', u'state3'), (4, u'name4', u'high_school4', u'hs_grad_year4', u'state4')]\n"
     ]
    }
   ],
   "source": [
    "rows = [[1,'name1','high_school1','hs_grad_year1','state1'],\n",
    "        [2,'name2','high_school2','hs_grad_year2','state2'],\n",
    "        [3,'name3','high_school3','hs_grad_year3','state3'],\n",
    "       [4,'name4','high_school4','hs_grad_year4','state4']]\n",
    "conn.executemany('insert into students values (?,?,?,?,?)', rows)\n",
    "output = cursor.execute('select * from students;').fetchall()\n",
    "print(output)"
   ]
  },
  {
   "cell_type": "code",
   "execution_count": 91,
   "metadata": {
    "collapsed": false
   },
   "outputs": [
    {
     "name": "stdout",
     "output_type": "stream",
     "text": [
      "[(1, u'name1', u'state1', 1), (2, u'name2', u'state2', 0), (3, u'name3', u'state3', 1), (4, u'name4', u'state4', 0)]\n"
     ]
    }
   ],
   "source": [
    "rows = [[1,'name1','state1',True],\n",
    "        [2,'name2','state2',False],\n",
    "        [3,'name3','state3',True],\n",
    "       [4,'name4','state4',False]]\n",
    "\n",
    "conn.executemany('insert into colleges values (?,?,?,?)', rows)\n",
    "output = cursor.execute('select * from colleges;').fetchall()\n",
    "print(output)"
   ]
  },
  {
   "cell_type": "code",
   "execution_count": 92,
   "metadata": {
    "collapsed": false
   },
   "outputs": [
    {
     "name": "stdout",
     "output_type": "stream",
     "text": [
      "[(1, 1), (2, 2), (3, 3), (4, 4)]\n"
     ]
    }
   ],
   "source": [
    "rows = [[1,1],\n",
    "        [2,2],\n",
    "        [3,3],\n",
    "       [4,4]]\n",
    "\n",
    "conn.executemany('insert into followed_colleges values (?,?)', rows)\n",
    "output = cursor.execute('select * from followed_colleges;').fetchall()\n",
    "print(output)"
   ]
  },
  {
   "cell_type": "code",
   "execution_count": null,
   "metadata": {
    "collapsed": false
   },
   "outputs": [],
   "source": []
  },
  {
   "cell_type": "code",
   "execution_count": 111,
   "metadata": {
    "collapsed": false
   },
   "outputs": [
    {
     "name": "stdout",
     "output_type": "stream",
     "text": [
      "[(1,)]\n"
     ]
    }
   ],
   "source": [
    "output = cursor.execute('''\n",
    "Select count(*) from students\n",
    "join followed_colleges\n",
    "\ton followed_colleges.students_id = students.id\n",
    "join colleges\n",
    "\ton followed_colleges.colleges_id = colleges.id\n",
    "    where colleges.name = 'name1'\n",
    "    and students.hs_grad_year = 'hs_grad_year1';\n",
    "''').fetchall()\n",
    "print output,"
   ]
  },
  {
   "cell_type": "code",
   "execution_count": null,
   "metadata": {
    "collapsed": true
   },
   "outputs": [],
   "source": []
  },
  {
   "cell_type": "code",
   "execution_count": 147,
   "metadata": {
    "collapsed": false
   },
   "outputs": [
    {
     "name": "stdout",
     "output_type": "stream",
     "text": [
      "[(u'high_school1',)]\n"
     ]
    }
   ],
   "source": [
    "output = cursor.execute('''\n",
    "select high_school_id from (\n",
    "\n",
    "    select high_school_id, state,count(*) from (\n",
    "        Select * from students\n",
    "        join followed_colleges\n",
    "        on followed_colleges.students_id = students.id\n",
    "        join colleges\n",
    "        on followed_colleges.colleges_id = colleges.id\n",
    "        Where colleges.name = \"name1\" ) as A\n",
    "    group by 1,2\n",
    "    order by 3 desc limit 5\n",
    "    )  as B\n",
    "where B.state = 'state1' ;''').fetchall()\n",
    "print output,"
   ]
  },
  {
   "cell_type": "code",
   "execution_count": null,
   "metadata": {
    "collapsed": true
   },
   "outputs": [],
   "source": [
    "# (Select * from students\n",
    "# join followed_colleges\n",
    "# on followed_colleges.colleges_id = colleges.id\n",
    "# Where colleges.name = ‘Tulane University’) as A\n",
    "\n",
    "# (Select high_school_id, state, count(*) from A group by 1 order by 2 desc) as B\n",
    "\n",
    "# Select high_school_id from B \n",
    "# where state =‘Louisiana’\n",
    "# Limit 5;\n",
    "\n",
    "\n",
    "# select high_school_id from (\n",
    "\n",
    "#     select high_school_id, state,count(*) from (\n",
    "#         Select * from students\n",
    "#         join followed_colleges\n",
    "#         on followed_colleges.students_id = students.id\n",
    "#         join colleges\n",
    "#         on followed_colleges.colleges_id = colleges.id\n",
    "#         Where colleges.name = “Tulane University“ ) as A\n",
    "#     group by 1,2\n",
    "#     order by 3 desc limit 5\n",
    "#     )  as B\n",
    "# where B.state = ‘Louisiana’ ;"
   ]
  }
 ],
 "metadata": {
  "kernelspec": {
   "display_name": "Python 2",
   "language": "python",
   "name": "python2"
  },
  "language_info": {
   "codemirror_mode": {
    "name": "ipython",
    "version": 2
   },
   "file_extension": ".py",
   "mimetype": "text/x-python",
   "name": "python",
   "nbconvert_exporter": "python",
   "pygments_lexer": "ipython2",
   "version": "2.7.13"
  }
 },
 "nbformat": 4,
 "nbformat_minor": 1
}
